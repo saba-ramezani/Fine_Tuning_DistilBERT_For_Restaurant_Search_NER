{
  "nbformat": 4,
  "nbformat_minor": 0,
  "metadata": {
    "colab": {
      "provenance": [],
      "gpuType": "T4",
      "mount_file_id": "1dLuuSfUUwhZWHOgVDGGOFDZahEvyAh1E",
      "authorship_tag": "ABX9TyPw46OOWTzXDMl+bPtY4NhQ",
      "include_colab_link": true
    },
    "kernelspec": {
      "name": "python3",
      "display_name": "Python 3"
    },
    "language_info": {
      "name": "python"
    },
    "accelerator": "GPU"
  },
  "cells": [
    {
      "cell_type": "markdown",
      "metadata": {
        "id": "view-in-github",
        "colab_type": "text"
      },
      "source": [
        "<a href=\"https://colab.research.google.com/github/saba-ramezani/Fine_Tuning_DistilBERT_For_Restaurant_Search_NER/blob/main/Fine_Tuning_DistilBERT_For_Restaurant_Search_NER.ipynb\" target=\"_parent\"><img src=\"https://colab.research.google.com/assets/colab-badge.svg\" alt=\"Open In Colab\"/></a>"
      ]
    },
    {
      "cell_type": "markdown",
      "source": [
        "# Fine Tuning DistilBERT For Restaurant Search NER"
      ],
      "metadata": {
        "id": "1TOsbiszpYUy"
      }
    },
    {
      "cell_type": "code",
      "source": [
        "# hide warnings\n",
        "import warnings\n",
        "warnings.filterwarnings('ignore')"
      ],
      "metadata": {
        "id": "rKQIkfORpdoM"
      },
      "execution_count": 1,
      "outputs": []
    },
    {
      "cell_type": "code",
      "source": [
        "# !pip install -U transformers\n",
        "# !pip install -U accelerate\n",
        "# !pip install -U datasets"
      ],
      "metadata": {
        "id": "hA70hutZpxSF"
      },
      "execution_count": null,
      "outputs": []
    },
    {
      "cell_type": "markdown",
      "source": [
        "## 1. Load & Preprocess the MIT Restaurant Dataset"
      ],
      "metadata": {
        "id": "7PSDznXppgeo"
      }
    },
    {
      "cell_type": "code",
      "source": [
        "import requests\n",
        "\n",
        "response = requests.get(\"https://raw.githubusercontent.com/laxmimerit/All-CSV-ML-Data-Files-Download/master/mit_restaurant_search_ner/train.bio\")\n",
        "response = response.text"
      ],
      "metadata": {
        "id": "-cxEZXfHplQ1"
      },
      "execution_count": 15,
      "outputs": []
    },
    {
      "cell_type": "code",
      "source": [
        "response = response.splitlines()\n",
        "response[:10]"
      ],
      "metadata": {
        "colab": {
          "base_uri": "https://localhost:8080/"
        },
        "id": "Jw86a0TbqNs-",
        "outputId": "d4662e89-0e3e-4fe1-a568-88996e85bfa1"
      },
      "execution_count": 16,
      "outputs": [
        {
          "output_type": "execute_result",
          "data": {
            "text/plain": [
              "['B-Rating\\t2',\n",
              " 'I-Rating\\tstart',\n",
              " 'O\\trestaurants',\n",
              " 'O\\twith',\n",
              " 'B-Amenity\\tinside',\n",
              " 'I-Amenity\\tdining',\n",
              " '',\n",
              " 'O\\t34',\n",
              " '',\n",
              " 'B-Rating\\t5']"
            ]
          },
          "metadata": {},
          "execution_count": 16
        }
      ]
    },
    {
      "cell_type": "code",
      "source": [
        "train_tokens = []\n",
        "train_tags = []\n",
        "\n",
        "temp_tokens = []\n",
        "temp_tags = []\n",
        "for line in response:\n",
        "    if line != \"\":\n",
        "        tag, token = line.strip().split(\"\\t\")\n",
        "        temp_tags.append(tag)\n",
        "        temp_tokens.append(token)\n",
        "    else:\n",
        "        train_tokens.append(temp_tokens)\n",
        "        train_tags.append(temp_tags)\n",
        "\n",
        "        temp_tokens, temp_tags = [], []"
      ],
      "metadata": {
        "id": "QD3NDui9uigA"
      },
      "execution_count": 17,
      "outputs": []
    },
    {
      "cell_type": "code",
      "source": [
        "train_tokens[:10], train_tags[:10]"
      ],
      "metadata": {
        "colab": {
          "base_uri": "https://localhost:8080/"
        },
        "id": "cvl0t-76utIo",
        "outputId": "caabd5b3-44c4-48e8-84d7-dc9b8d94d2b8"
      },
      "execution_count": 18,
      "outputs": [
        {
          "output_type": "execute_result",
          "data": {
            "text/plain": [
              "([['2', 'start', 'restaurants', 'with', 'inside', 'dining'],\n",
              "  ['34'],\n",
              "  ['5', 'star', 'resturants', 'in', 'my', 'town'],\n",
              "  ['98', 'hong', 'kong', 'restaurant', 'reasonable', 'prices'],\n",
              "  ['a',\n",
              "   'great',\n",
              "   'lunch',\n",
              "   'spot',\n",
              "   'but',\n",
              "   'open',\n",
              "   'till',\n",
              "   '2',\n",
              "   'a',\n",
              "   'm',\n",
              "   'passims',\n",
              "   'kitchen'],\n",
              "  ['a', 'place', 'that', 'serves', 'soft', 'serve', 'ice', 'cream'],\n",
              "  ['a', 'restaurant', 'that', 'is', 'good', 'for', 'groups'],\n",
              "  ['a', 'salad', 'would', 'make', 'my', 'day'],\n",
              "  ['a', 'smoothie', 'would', 'hit', 'the', 'spot'],\n",
              "  ['a', 'steak', 'would', 'be', 'nice']],\n",
              " [['B-Rating', 'I-Rating', 'O', 'O', 'B-Amenity', 'I-Amenity'],\n",
              "  ['O'],\n",
              "  ['B-Rating', 'I-Rating', 'O', 'B-Location', 'I-Location', 'I-Location'],\n",
              "  ['O', 'B-Restaurant_Name', 'I-Restaurant_Name', 'O', 'B-Price', 'O'],\n",
              "  ['O',\n",
              "   'O',\n",
              "   'O',\n",
              "   'O',\n",
              "   'O',\n",
              "   'B-Hours',\n",
              "   'I-Hours',\n",
              "   'I-Hours',\n",
              "   'I-Hours',\n",
              "   'I-Hours',\n",
              "   'B-Restaurant_Name',\n",
              "   'I-Restaurant_Name'],\n",
              "  ['O', 'O', 'O', 'O', 'B-Dish', 'I-Dish', 'I-Dish', 'I-Dish'],\n",
              "  ['O', 'O', 'O', 'O', 'B-Rating', 'B-Amenity', 'I-Amenity'],\n",
              "  ['O', 'B-Dish', 'O', 'O', 'O', 'O'],\n",
              "  ['O', 'B-Cuisine', 'O', 'O', 'O', 'O'],\n",
              "  ['O', 'B-Dish', 'O', 'O', 'O']])"
            ]
          },
          "metadata": {},
          "execution_count": 18
        }
      ]
    },
    {
      "cell_type": "code",
      "source": [
        "len(train_tokens), len(train_tags)"
      ],
      "metadata": {
        "colab": {
          "base_uri": "https://localhost:8080/"
        },
        "id": "nxXoZk70u0p8",
        "outputId": "3d4926ad-4126-4f9a-e49d-d78403596050"
      },
      "execution_count": 19,
      "outputs": [
        {
          "output_type": "execute_result",
          "data": {
            "text/plain": [
              "(7659, 7659)"
            ]
          },
          "metadata": {},
          "execution_count": 19
        }
      ]
    },
    {
      "cell_type": "code",
      "source": [
        "response = requests.get(\"https://raw.githubusercontent.com/laxmimerit/All-CSV-ML-Data-Files-Download/master/mit_restaurant_search_ner/test.bio\")\n",
        "response = response.text\n",
        "response = response.splitlines()\n",
        "\n",
        "test_tokens = []\n",
        "test_tags = []\n",
        "\n",
        "temp_tokens = []\n",
        "temp_tags = []\n",
        "for line in response:\n",
        "    if line != \"\":\n",
        "        tag, token = line.strip().split(\"\\t\")\n",
        "        temp_tags.append(tag)\n",
        "        temp_tokens.append(token)\n",
        "    else:\n",
        "        test_tokens.append(temp_tokens)\n",
        "        test_tags.append(temp_tags)\n",
        "\n",
        "        temp_tokens, temp_tags = [], []\n",
        "\n",
        "len(test_tokens), len(test_tags)"
      ],
      "metadata": {
        "colab": {
          "base_uri": "https://localhost:8080/"
        },
        "id": "3u13lkgwu6Mm",
        "outputId": "969e58a2-ec1a-43c2-bbc7-e63c3191427f"
      },
      "execution_count": 20,
      "outputs": [
        {
          "output_type": "execute_result",
          "data": {
            "text/plain": [
              "(1520, 1520)"
            ]
          },
          "metadata": {},
          "execution_count": 20
        }
      ]
    },
    {
      "cell_type": "code",
      "source": [
        "from datasets import Dataset, DatasetDict\n",
        "import pandas as pd\n",
        "\n",
        "train_df = pd.DataFrame({'tokens': train_tokens, 'ner_tags_str': train_tags})\n",
        "\n",
        "test_df = pd.DataFrame({'tokens': test_tokens, 'ner_tags_str': test_tags})\n",
        "\n",
        "df = pd.concat([train_df, test_df], ignore_index=True)\n",
        "\n",
        "train_df.shape, test_df.shape, df.shape"
      ],
      "metadata": {
        "colab": {
          "base_uri": "https://localhost:8080/"
        },
        "id": "GbS5Ek9Ju8w7",
        "outputId": "9fffd599-97c3-4ead-8827-b7fc4586185b"
      },
      "execution_count": 21,
      "outputs": [
        {
          "output_type": "execute_result",
          "data": {
            "text/plain": [
              "((7659, 2), (1520, 2), (9179, 2))"
            ]
          },
          "metadata": {},
          "execution_count": 21
        }
      ]
    },
    {
      "cell_type": "code",
      "source": [
        "df"
      ],
      "metadata": {
        "colab": {
          "base_uri": "https://localhost:8080/",
          "height": 424
        },
        "id": "nTsCmFIEwf5M",
        "outputId": "f5b5824c-034e-4de7-af67-31b2f02ca17f"
      },
      "execution_count": 22,
      "outputs": [
        {
          "output_type": "execute_result",
          "data": {
            "text/plain": [
              "                                                 tokens  \\\n",
              "0         [2, start, restaurants, with, inside, dining]   \n",
              "1                                                  [34]   \n",
              "2                   [5, star, resturants, in, my, town]   \n",
              "3      [98, hong, kong, restaurant, reasonable, prices]   \n",
              "4     [a, great, lunch, spot, but, open, till, 2, a,...   \n",
              "...                                                 ...   \n",
              "9174  [will, i, be, able, to, find, a, romantic, res...   \n",
              "9175  [will, waffle, house, accept, a, prepaid, visa...   \n",
              "9176  [yes, please, get, me, mcdonalds, phone, numbe...   \n",
              "9177  [yes, the, new, diner, on, south, street, please]   \n",
              "9178  [yes, we, need, some, chicken, for, our, new, ...   \n",
              "\n",
              "                                           ner_tags_str  \n",
              "0      [B-Rating, I-Rating, O, O, B-Amenity, I-Amenity]  \n",
              "1                                                   [O]  \n",
              "2     [B-Rating, I-Rating, O, B-Location, I-Location...  \n",
              "3     [O, B-Restaurant_Name, I-Restaurant_Name, O, B...  \n",
              "4     [O, O, O, O, O, B-Hours, I-Hours, I-Hours, I-H...  \n",
              "...                                                 ...  \n",
              "9174  [O, O, O, O, O, O, O, B-Amenity, O, O, O, O, B...  \n",
              "9175  [O, B-Restaurant_Name, I-Restaurant_Name, O, O...  \n",
              "9176  [O, O, O, O, B-Restaurant_Name, O, O, O, B-Loc...  \n",
              "9177  [O, O, O, B-Cuisine, O, B-Location, I-Location...  \n",
              "9178  [O, O, O, O, B-Dish, O, O, O, O, O, B-Restaura...  \n",
              "\n",
              "[9179 rows x 2 columns]"
            ],
            "text/html": [
              "\n",
              "  <div id=\"df-ff8cc17b-a923-43a9-86c2-a86e2036918e\" class=\"colab-df-container\">\n",
              "    <div>\n",
              "<style scoped>\n",
              "    .dataframe tbody tr th:only-of-type {\n",
              "        vertical-align: middle;\n",
              "    }\n",
              "\n",
              "    .dataframe tbody tr th {\n",
              "        vertical-align: top;\n",
              "    }\n",
              "\n",
              "    .dataframe thead th {\n",
              "        text-align: right;\n",
              "    }\n",
              "</style>\n",
              "<table border=\"1\" class=\"dataframe\">\n",
              "  <thead>\n",
              "    <tr style=\"text-align: right;\">\n",
              "      <th></th>\n",
              "      <th>tokens</th>\n",
              "      <th>ner_tags_str</th>\n",
              "    </tr>\n",
              "  </thead>\n",
              "  <tbody>\n",
              "    <tr>\n",
              "      <th>0</th>\n",
              "      <td>[2, start, restaurants, with, inside, dining]</td>\n",
              "      <td>[B-Rating, I-Rating, O, O, B-Amenity, I-Amenity]</td>\n",
              "    </tr>\n",
              "    <tr>\n",
              "      <th>1</th>\n",
              "      <td>[34]</td>\n",
              "      <td>[O]</td>\n",
              "    </tr>\n",
              "    <tr>\n",
              "      <th>2</th>\n",
              "      <td>[5, star, resturants, in, my, town]</td>\n",
              "      <td>[B-Rating, I-Rating, O, B-Location, I-Location...</td>\n",
              "    </tr>\n",
              "    <tr>\n",
              "      <th>3</th>\n",
              "      <td>[98, hong, kong, restaurant, reasonable, prices]</td>\n",
              "      <td>[O, B-Restaurant_Name, I-Restaurant_Name, O, B...</td>\n",
              "    </tr>\n",
              "    <tr>\n",
              "      <th>4</th>\n",
              "      <td>[a, great, lunch, spot, but, open, till, 2, a,...</td>\n",
              "      <td>[O, O, O, O, O, B-Hours, I-Hours, I-Hours, I-H...</td>\n",
              "    </tr>\n",
              "    <tr>\n",
              "      <th>...</th>\n",
              "      <td>...</td>\n",
              "      <td>...</td>\n",
              "    </tr>\n",
              "    <tr>\n",
              "      <th>9174</th>\n",
              "      <td>[will, i, be, able, to, find, a, romantic, res...</td>\n",
              "      <td>[O, O, O, O, O, O, O, B-Amenity, O, O, O, O, B...</td>\n",
              "    </tr>\n",
              "    <tr>\n",
              "      <th>9175</th>\n",
              "      <td>[will, waffle, house, accept, a, prepaid, visa...</td>\n",
              "      <td>[O, B-Restaurant_Name, I-Restaurant_Name, O, O...</td>\n",
              "    </tr>\n",
              "    <tr>\n",
              "      <th>9176</th>\n",
              "      <td>[yes, please, get, me, mcdonalds, phone, numbe...</td>\n",
              "      <td>[O, O, O, O, B-Restaurant_Name, O, O, O, B-Loc...</td>\n",
              "    </tr>\n",
              "    <tr>\n",
              "      <th>9177</th>\n",
              "      <td>[yes, the, new, diner, on, south, street, please]</td>\n",
              "      <td>[O, O, O, B-Cuisine, O, B-Location, I-Location...</td>\n",
              "    </tr>\n",
              "    <tr>\n",
              "      <th>9178</th>\n",
              "      <td>[yes, we, need, some, chicken, for, our, new, ...</td>\n",
              "      <td>[O, O, O, O, B-Dish, O, O, O, O, O, B-Restaura...</td>\n",
              "    </tr>\n",
              "  </tbody>\n",
              "</table>\n",
              "<p>9179 rows × 2 columns</p>\n",
              "</div>\n",
              "    <div class=\"colab-df-buttons\">\n",
              "\n",
              "  <div class=\"colab-df-container\">\n",
              "    <button class=\"colab-df-convert\" onclick=\"convertToInteractive('df-ff8cc17b-a923-43a9-86c2-a86e2036918e')\"\n",
              "            title=\"Convert this dataframe to an interactive table.\"\n",
              "            style=\"display:none;\">\n",
              "\n",
              "  <svg xmlns=\"http://www.w3.org/2000/svg\" height=\"24px\" viewBox=\"0 -960 960 960\">\n",
              "    <path d=\"M120-120v-720h720v720H120Zm60-500h600v-160H180v160Zm220 220h160v-160H400v160Zm0 220h160v-160H400v160ZM180-400h160v-160H180v160Zm440 0h160v-160H620v160ZM180-180h160v-160H180v160Zm440 0h160v-160H620v160Z\"/>\n",
              "  </svg>\n",
              "    </button>\n",
              "\n",
              "  <style>\n",
              "    .colab-df-container {\n",
              "      display:flex;\n",
              "      gap: 12px;\n",
              "    }\n",
              "\n",
              "    .colab-df-convert {\n",
              "      background-color: #E8F0FE;\n",
              "      border: none;\n",
              "      border-radius: 50%;\n",
              "      cursor: pointer;\n",
              "      display: none;\n",
              "      fill: #1967D2;\n",
              "      height: 32px;\n",
              "      padding: 0 0 0 0;\n",
              "      width: 32px;\n",
              "    }\n",
              "\n",
              "    .colab-df-convert:hover {\n",
              "      background-color: #E2EBFA;\n",
              "      box-shadow: 0px 1px 2px rgba(60, 64, 67, 0.3), 0px 1px 3px 1px rgba(60, 64, 67, 0.15);\n",
              "      fill: #174EA6;\n",
              "    }\n",
              "\n",
              "    .colab-df-buttons div {\n",
              "      margin-bottom: 4px;\n",
              "    }\n",
              "\n",
              "    [theme=dark] .colab-df-convert {\n",
              "      background-color: #3B4455;\n",
              "      fill: #D2E3FC;\n",
              "    }\n",
              "\n",
              "    [theme=dark] .colab-df-convert:hover {\n",
              "      background-color: #434B5C;\n",
              "      box-shadow: 0px 1px 3px 1px rgba(0, 0, 0, 0.15);\n",
              "      filter: drop-shadow(0px 1px 2px rgba(0, 0, 0, 0.3));\n",
              "      fill: #FFFFFF;\n",
              "    }\n",
              "  </style>\n",
              "\n",
              "    <script>\n",
              "      const buttonEl =\n",
              "        document.querySelector('#df-ff8cc17b-a923-43a9-86c2-a86e2036918e button.colab-df-convert');\n",
              "      buttonEl.style.display =\n",
              "        google.colab.kernel.accessAllowed ? 'block' : 'none';\n",
              "\n",
              "      async function convertToInteractive(key) {\n",
              "        const element = document.querySelector('#df-ff8cc17b-a923-43a9-86c2-a86e2036918e');\n",
              "        const dataTable =\n",
              "          await google.colab.kernel.invokeFunction('convertToInteractive',\n",
              "                                                    [key], {});\n",
              "        if (!dataTable) return;\n",
              "\n",
              "        const docLinkHtml = 'Like what you see? Visit the ' +\n",
              "          '<a target=\"_blank\" href=https://colab.research.google.com/notebooks/data_table.ipynb>data table notebook</a>'\n",
              "          + ' to learn more about interactive tables.';\n",
              "        element.innerHTML = '';\n",
              "        dataTable['output_type'] = 'display_data';\n",
              "        await google.colab.output.renderOutput(dataTable, element);\n",
              "        const docLink = document.createElement('div');\n",
              "        docLink.innerHTML = docLinkHtml;\n",
              "        element.appendChild(docLink);\n",
              "      }\n",
              "    </script>\n",
              "  </div>\n",
              "\n",
              "\n",
              "    <div id=\"df-bbacd9d2-995c-4a49-a03d-acb8f4f42db5\">\n",
              "      <button class=\"colab-df-quickchart\" onclick=\"quickchart('df-bbacd9d2-995c-4a49-a03d-acb8f4f42db5')\"\n",
              "                title=\"Suggest charts\"\n",
              "                style=\"display:none;\">\n",
              "\n",
              "<svg xmlns=\"http://www.w3.org/2000/svg\" height=\"24px\"viewBox=\"0 0 24 24\"\n",
              "     width=\"24px\">\n",
              "    <g>\n",
              "        <path d=\"M19 3H5c-1.1 0-2 .9-2 2v14c0 1.1.9 2 2 2h14c1.1 0 2-.9 2-2V5c0-1.1-.9-2-2-2zM9 17H7v-7h2v7zm4 0h-2V7h2v10zm4 0h-2v-4h2v4z\"/>\n",
              "    </g>\n",
              "</svg>\n",
              "      </button>\n",
              "\n",
              "<style>\n",
              "  .colab-df-quickchart {\n",
              "      --bg-color: #E8F0FE;\n",
              "      --fill-color: #1967D2;\n",
              "      --hover-bg-color: #E2EBFA;\n",
              "      --hover-fill-color: #174EA6;\n",
              "      --disabled-fill-color: #AAA;\n",
              "      --disabled-bg-color: #DDD;\n",
              "  }\n",
              "\n",
              "  [theme=dark] .colab-df-quickchart {\n",
              "      --bg-color: #3B4455;\n",
              "      --fill-color: #D2E3FC;\n",
              "      --hover-bg-color: #434B5C;\n",
              "      --hover-fill-color: #FFFFFF;\n",
              "      --disabled-bg-color: #3B4455;\n",
              "      --disabled-fill-color: #666;\n",
              "  }\n",
              "\n",
              "  .colab-df-quickchart {\n",
              "    background-color: var(--bg-color);\n",
              "    border: none;\n",
              "    border-radius: 50%;\n",
              "    cursor: pointer;\n",
              "    display: none;\n",
              "    fill: var(--fill-color);\n",
              "    height: 32px;\n",
              "    padding: 0;\n",
              "    width: 32px;\n",
              "  }\n",
              "\n",
              "  .colab-df-quickchart:hover {\n",
              "    background-color: var(--hover-bg-color);\n",
              "    box-shadow: 0 1px 2px rgba(60, 64, 67, 0.3), 0 1px 3px 1px rgba(60, 64, 67, 0.15);\n",
              "    fill: var(--button-hover-fill-color);\n",
              "  }\n",
              "\n",
              "  .colab-df-quickchart-complete:disabled,\n",
              "  .colab-df-quickchart-complete:disabled:hover {\n",
              "    background-color: var(--disabled-bg-color);\n",
              "    fill: var(--disabled-fill-color);\n",
              "    box-shadow: none;\n",
              "  }\n",
              "\n",
              "  .colab-df-spinner {\n",
              "    border: 2px solid var(--fill-color);\n",
              "    border-color: transparent;\n",
              "    border-bottom-color: var(--fill-color);\n",
              "    animation:\n",
              "      spin 1s steps(1) infinite;\n",
              "  }\n",
              "\n",
              "  @keyframes spin {\n",
              "    0% {\n",
              "      border-color: transparent;\n",
              "      border-bottom-color: var(--fill-color);\n",
              "      border-left-color: var(--fill-color);\n",
              "    }\n",
              "    20% {\n",
              "      border-color: transparent;\n",
              "      border-left-color: var(--fill-color);\n",
              "      border-top-color: var(--fill-color);\n",
              "    }\n",
              "    30% {\n",
              "      border-color: transparent;\n",
              "      border-left-color: var(--fill-color);\n",
              "      border-top-color: var(--fill-color);\n",
              "      border-right-color: var(--fill-color);\n",
              "    }\n",
              "    40% {\n",
              "      border-color: transparent;\n",
              "      border-right-color: var(--fill-color);\n",
              "      border-top-color: var(--fill-color);\n",
              "    }\n",
              "    60% {\n",
              "      border-color: transparent;\n",
              "      border-right-color: var(--fill-color);\n",
              "    }\n",
              "    80% {\n",
              "      border-color: transparent;\n",
              "      border-right-color: var(--fill-color);\n",
              "      border-bottom-color: var(--fill-color);\n",
              "    }\n",
              "    90% {\n",
              "      border-color: transparent;\n",
              "      border-bottom-color: var(--fill-color);\n",
              "    }\n",
              "  }\n",
              "</style>\n",
              "\n",
              "      <script>\n",
              "        async function quickchart(key) {\n",
              "          const quickchartButtonEl =\n",
              "            document.querySelector('#' + key + ' button');\n",
              "          quickchartButtonEl.disabled = true;  // To prevent multiple clicks.\n",
              "          quickchartButtonEl.classList.add('colab-df-spinner');\n",
              "          try {\n",
              "            const charts = await google.colab.kernel.invokeFunction(\n",
              "                'suggestCharts', [key], {});\n",
              "          } catch (error) {\n",
              "            console.error('Error during call to suggestCharts:', error);\n",
              "          }\n",
              "          quickchartButtonEl.classList.remove('colab-df-spinner');\n",
              "          quickchartButtonEl.classList.add('colab-df-quickchart-complete');\n",
              "        }\n",
              "        (() => {\n",
              "          let quickchartButtonEl =\n",
              "            document.querySelector('#df-bbacd9d2-995c-4a49-a03d-acb8f4f42db5 button');\n",
              "          quickchartButtonEl.style.display =\n",
              "            google.colab.kernel.accessAllowed ? 'block' : 'none';\n",
              "        })();\n",
              "      </script>\n",
              "    </div>\n",
              "    </div>\n",
              "  </div>\n"
            ],
            "application/vnd.google.colaboratory.intrinsic+json": {
              "type": "dataframe",
              "variable_name": "df",
              "summary": "{\n  \"name\": \"df\",\n  \"rows\": 9179,\n  \"fields\": [\n    {\n      \"column\": \"tokens\",\n      \"properties\": {\n        \"dtype\": \"object\",\n        \"semantic_type\": \"\",\n        \"description\": \"\"\n      }\n    },\n    {\n      \"column\": \"ner_tags_str\",\n      \"properties\": {\n        \"dtype\": \"object\",\n        \"semantic_type\": \"\",\n        \"description\": \"\"\n      }\n    }\n  ]\n}"
            }
          },
          "metadata": {},
          "execution_count": 22
        }
      ]
    },
    {
      "cell_type": "code",
      "source": [
        "from sklearn.model_selection import train_test_split\n",
        "\n",
        "# 70% for training, 20% test, 10% validation\n",
        "train, test = train_test_split(df, test_size=0.3)\n",
        "test, validation = train_test_split(test, test_size=1/3)\n",
        "\n",
        "train.shape, test.shape, validation.shape, df.shape"
      ],
      "metadata": {
        "colab": {
          "base_uri": "https://localhost:8080/"
        },
        "id": "1EYnq_ICwhjU",
        "outputId": "9d436735-d221-44c2-c3e0-98b4b2c652f1"
      },
      "execution_count": 23,
      "outputs": [
        {
          "output_type": "execute_result",
          "data": {
            "text/plain": [
              "((6425, 2), (1836, 2), (918, 2), (9179, 2))"
            ]
          },
          "metadata": {},
          "execution_count": 23
        }
      ]
    },
    {
      "cell_type": "code",
      "source": [
        "from datasets import Dataset, DatasetDict\n",
        "\n",
        "dataset = DatasetDict(\n",
        "    {\n",
        "        \"train\": Dataset.from_pandas(train, preserve_index=False),\n",
        "        \"test\": Dataset.from_pandas(test, preserve_index=False),\n",
        "        \"validation\": Dataset.from_pandas(validation, preserve_index=False)\n",
        "    }\n",
        ")\n",
        "\n",
        "dataset"
      ],
      "metadata": {
        "colab": {
          "base_uri": "https://localhost:8080/"
        },
        "id": "t5C2d_SawwmO",
        "outputId": "a3e49435-3035-479c-a1b4-c43b01982a31"
      },
      "execution_count": 24,
      "outputs": [
        {
          "output_type": "execute_result",
          "data": {
            "text/plain": [
              "DatasetDict({\n",
              "    train: Dataset({\n",
              "        features: ['tokens', 'ner_tags_str'],\n",
              "        num_rows: 6425\n",
              "    })\n",
              "    test: Dataset({\n",
              "        features: ['tokens', 'ner_tags_str'],\n",
              "        num_rows: 1836\n",
              "    })\n",
              "    validation: Dataset({\n",
              "        features: ['tokens', 'ner_tags_str'],\n",
              "        num_rows: 918\n",
              "    })\n",
              "})"
            ]
          },
          "metadata": {},
          "execution_count": 24
        }
      ]
    },
    {
      "cell_type": "code",
      "source": [
        "dataset['train'][0]"
      ],
      "metadata": {
        "colab": {
          "base_uri": "https://localhost:8080/"
        },
        "id": "I5hk0UV5w0Ms",
        "outputId": "aa18d24d-d1da-413d-d550-171b137294c2"
      },
      "execution_count": 25,
      "outputs": [
        {
          "output_type": "execute_result",
          "data": {
            "text/plain": [
              "{'tokens': ['i',\n",
              "  'am',\n",
              "  'looking',\n",
              "  'for',\n",
              "  'a',\n",
              "  'joes',\n",
              "  'crab',\n",
              "  'shack',\n",
              "  'where',\n",
              "  'is',\n",
              "  'the',\n",
              "  'nearest',\n",
              "  'one'],\n",
              " 'ner_tags_str': ['O',\n",
              "  'O',\n",
              "  'O',\n",
              "  'O',\n",
              "  'O',\n",
              "  'B-Restaurant_Name',\n",
              "  'I-Restaurant_Name',\n",
              "  'I-Restaurant_Name',\n",
              "  'O',\n",
              "  'O',\n",
              "  'O',\n",
              "  'B-Location',\n",
              "  'I-Location']}"
            ]
          },
          "metadata": {},
          "execution_count": 25
        }
      ]
    },
    {
      "cell_type": "code",
      "source": [
        "unique_tags = set()\n",
        "for tag in dataset['train']['ner_tags_str']:\n",
        "    unique_tags.update(tag)\n",
        "\n",
        "unique_tags = list(set([x[2:] for x in list(unique_tags) if x!='O']))\n",
        "\n",
        "tag2index = {\"O\": 0}\n",
        "for i, tag in enumerate(unique_tags):\n",
        "    tag2index[f'B-{tag}'] = len(tag2index)\n",
        "    tag2index[f'I-{tag}'] = len(tag2index)\n",
        "\n",
        "index2tag = {v:k for k,v in tag2index.items()}\n",
        "\n",
        "tag2index, index2tag"
      ],
      "metadata": {
        "colab": {
          "base_uri": "https://localhost:8080/"
        },
        "id": "FHbiNAN5w4iq",
        "outputId": "107e19a3-f803-405b-f290-743ae7f18ef5"
      },
      "execution_count": 27,
      "outputs": [
        {
          "output_type": "execute_result",
          "data": {
            "text/plain": [
              "({'O': 0,\n",
              "  'B-Location': 1,\n",
              "  'I-Location': 2,\n",
              "  'B-Hours': 3,\n",
              "  'I-Hours': 4,\n",
              "  'B-Restaurant_Name': 5,\n",
              "  'I-Restaurant_Name': 6,\n",
              "  'B-Cuisine': 7,\n",
              "  'I-Cuisine': 8,\n",
              "  'B-Amenity': 9,\n",
              "  'I-Amenity': 10,\n",
              "  'B-Rating': 11,\n",
              "  'I-Rating': 12,\n",
              "  'B-Dish': 13,\n",
              "  'I-Dish': 14,\n",
              "  'B-Price': 15,\n",
              "  'I-Price': 16},\n",
              " {0: 'O',\n",
              "  1: 'B-Location',\n",
              "  2: 'I-Location',\n",
              "  3: 'B-Hours',\n",
              "  4: 'I-Hours',\n",
              "  5: 'B-Restaurant_Name',\n",
              "  6: 'I-Restaurant_Name',\n",
              "  7: 'B-Cuisine',\n",
              "  8: 'I-Cuisine',\n",
              "  9: 'B-Amenity',\n",
              "  10: 'I-Amenity',\n",
              "  11: 'B-Rating',\n",
              "  12: 'I-Rating',\n",
              "  13: 'B-Dish',\n",
              "  14: 'I-Dish',\n",
              "  15: 'B-Price',\n",
              "  16: 'I-Price'})"
            ]
          },
          "metadata": {},
          "execution_count": 27
        }
      ]
    },
    {
      "cell_type": "code",
      "source": [
        "dataset = dataset.map(lambda example: {\"ner_tags\": [tag2index[tag] for tag in example['ner_tags_str']]})"
      ],
      "metadata": {
        "id": "50XpefFdyINv"
      },
      "execution_count": null,
      "outputs": []
    },
    {
      "cell_type": "code",
      "source": [
        "dataset"
      ],
      "metadata": {
        "colab": {
          "base_uri": "https://localhost:8080/"
        },
        "id": "_TBt9Cldyhrn",
        "outputId": "bd6c05e8-16c2-41de-abfe-b9f09ff64434"
      },
      "execution_count": 29,
      "outputs": [
        {
          "output_type": "execute_result",
          "data": {
            "text/plain": [
              "DatasetDict({\n",
              "    train: Dataset({\n",
              "        features: ['tokens', 'ner_tags_str', 'ner_tags'],\n",
              "        num_rows: 6425\n",
              "    })\n",
              "    test: Dataset({\n",
              "        features: ['tokens', 'ner_tags_str', 'ner_tags'],\n",
              "        num_rows: 1836\n",
              "    })\n",
              "    validation: Dataset({\n",
              "        features: ['tokens', 'ner_tags_str', 'ner_tags'],\n",
              "        num_rows: 918\n",
              "    })\n",
              "})"
            ]
          },
          "metadata": {},
          "execution_count": 29
        }
      ]
    },
    {
      "cell_type": "code",
      "source": [
        "dataset['train'][5]"
      ],
      "metadata": {
        "colab": {
          "base_uri": "https://localhost:8080/"
        },
        "id": "Tx1ayKcDyft0",
        "outputId": "f90aea97-d483-4926-fe32-d7adea75ebf1"
      },
      "execution_count": 32,
      "outputs": [
        {
          "output_type": "execute_result",
          "data": {
            "text/plain": [
              "{'tokens': ['what', 'is', 'pizza', 'hut', 'phone', 'number'],\n",
              " 'ner_tags_str': ['O',\n",
              "  'O',\n",
              "  'B-Restaurant_Name',\n",
              "  'I-Restaurant_Name',\n",
              "  'O',\n",
              "  'O'],\n",
              " 'ner_tags': [0, 0, 5, 6, 0, 0]}"
            ]
          },
          "metadata": {},
          "execution_count": 32
        }
      ]
    },
    {
      "cell_type": "markdown",
      "source": [
        "## 2. Tokenize the data"
      ],
      "metadata": {
        "id": "IVqUzJQV3oUq"
      }
    },
    {
      "cell_type": "code",
      "source": [
        "from transformers import AutoTokenizer"
      ],
      "metadata": {
        "id": "yPPp_dpn3qrV"
      },
      "execution_count": 33,
      "outputs": []
    },
    {
      "cell_type": "code",
      "source": [
        "model_ckpt = \"distilbert-base-uncased\"\n",
        "tokenizer = AutoTokenizer.from_pretrained(model_ckpt)"
      ],
      "metadata": {
        "id": "aeXSK8gQ3sxi"
      },
      "execution_count": null,
      "outputs": []
    },
    {
      "cell_type": "code",
      "source": [
        "dataset['train'][1]['tokens']"
      ],
      "metadata": {
        "colab": {
          "base_uri": "https://localhost:8080/"
        },
        "id": "RQyl-f3X31M4",
        "outputId": "bf05a0ba-98a9-48ec-b07c-b1565d78496f"
      },
      "execution_count": 41,
      "outputs": [
        {
          "output_type": "execute_result",
          "data": {
            "text/plain": [
              "['find',\n",
              " 'the',\n",
              " 'read',\n",
              " 'hot',\n",
              " 'and',\n",
              " 'blue',\n",
              " 'restaurant',\n",
              " 'with',\n",
              " 'a',\n",
              " 'date',\n",
              " 'spot',\n",
              " 'amenity']"
            ]
          },
          "metadata": {},
          "execution_count": 41
        }
      ]
    },
    {
      "cell_type": "code",
      "source": [
        "input = dataset['train'][1]['tokens']\n",
        "output = tokenizer(input, is_split_into_words=True)\n",
        "tokenizer.convert_ids_to_tokens(output.input_ids)"
      ],
      "metadata": {
        "colab": {
          "base_uri": "https://localhost:8080/"
        },
        "id": "q5yNTBJm33hE",
        "outputId": "4d7b90dd-44c3-4ca9-eaa4-9c52f0f24616"
      },
      "execution_count": 40,
      "outputs": [
        {
          "output_type": "execute_result",
          "data": {
            "text/plain": [
              "['[CLS]',\n",
              " 'find',\n",
              " 'the',\n",
              " 'read',\n",
              " 'hot',\n",
              " 'and',\n",
              " 'blue',\n",
              " 'restaurant',\n",
              " 'with',\n",
              " 'a',\n",
              " 'date',\n",
              " 'spot',\n",
              " 'am',\n",
              " '##enity',\n",
              " '[SEP]']"
            ]
          },
          "metadata": {},
          "execution_count": 40
        }
      ]
    },
    {
      "cell_type": "code",
      "source": [
        "def tokenize_and_align_labels(examples):\n",
        "    tokenized_inputs = tokenizer(examples['tokens'], truncation=True, is_split_into_words=True)\n",
        "\n",
        "    labels = []\n",
        "    for i, label in enumerate(examples['ner_tags']):\n",
        "        word_ids = tokenized_inputs.word_ids(batch_index=i)\n",
        "\n",
        "        previous_word_idx = None\n",
        "        label_ids = []\n",
        "\n",
        "        for word_idx in word_ids:\n",
        "            # if id=-100 then loss is not calculated\n",
        "            if word_idx is None:\n",
        "                label_ids.append(-100)\n",
        "\n",
        "            elif word_idx != previous_word_idx:\n",
        "                label_ids.append(label[word_idx])\n",
        "\n",
        "            else:\n",
        "                label_ids.append(-100)\n",
        "\n",
        "            previous_word_idx = word_idx\n",
        "\n",
        "        labels.append(label_ids)\n",
        "\n",
        "    tokenized_inputs['labels'] = labels\n",
        "\n",
        "    return tokenized_inputs\n",
        "\n"
      ],
      "metadata": {
        "id": "ptWF_eTs4Ah3"
      },
      "execution_count": 42,
      "outputs": []
    },
    {
      "cell_type": "code",
      "source": [
        "tokenized_dataset = dataset.map(tokenize_and_align_labels, batched=True)"
      ],
      "metadata": {
        "id": "PVEvkTz-4Nlp"
      },
      "execution_count": null,
      "outputs": []
    },
    {
      "cell_type": "code",
      "source": [
        "tokenized_dataset['train'][1]"
      ],
      "metadata": {
        "colab": {
          "base_uri": "https://localhost:8080/"
        },
        "id": "swenv4xp4PAM",
        "outputId": "30344823-0dc5-4010-8158-a22d4c4aed47"
      },
      "execution_count": 44,
      "outputs": [
        {
          "output_type": "execute_result",
          "data": {
            "text/plain": [
              "{'tokens': ['find',\n",
              "  'the',\n",
              "  'read',\n",
              "  'hot',\n",
              "  'and',\n",
              "  'blue',\n",
              "  'restaurant',\n",
              "  'with',\n",
              "  'a',\n",
              "  'date',\n",
              "  'spot',\n",
              "  'amenity'],\n",
              " 'ner_tags_str': ['O',\n",
              "  'O',\n",
              "  'B-Restaurant_Name',\n",
              "  'I-Restaurant_Name',\n",
              "  'I-Restaurant_Name',\n",
              "  'I-Restaurant_Name',\n",
              "  'O',\n",
              "  'O',\n",
              "  'O',\n",
              "  'B-Amenity',\n",
              "  'I-Amenity',\n",
              "  'O'],\n",
              " 'ner_tags': [0, 0, 5, 6, 6, 6, 0, 0, 0, 9, 10, 0],\n",
              " 'input_ids': [101,\n",
              "  2424,\n",
              "  1996,\n",
              "  3191,\n",
              "  2980,\n",
              "  1998,\n",
              "  2630,\n",
              "  4825,\n",
              "  2007,\n",
              "  1037,\n",
              "  3058,\n",
              "  3962,\n",
              "  2572,\n",
              "  20693,\n",
              "  102],\n",
              " 'attention_mask': [1, 1, 1, 1, 1, 1, 1, 1, 1, 1, 1, 1, 1, 1, 1],\n",
              " 'labels': [-100, 0, 0, 5, 6, 6, 6, 0, 0, 0, 9, 10, 0, -100, -100]}"
            ]
          },
          "metadata": {},
          "execution_count": 44
        }
      ]
    },
    {
      "cell_type": "markdown",
      "source": [
        "## 3. Data Collation & Metrics"
      ],
      "metadata": {
        "id": "IVI0yB4j4pHI"
      }
    },
    {
      "cell_type": "code",
      "source": [
        "# !pip install seqeval\n",
        "# !pip install evaluate"
      ],
      "metadata": {
        "id": "uHxQruNb4sTe"
      },
      "execution_count": null,
      "outputs": []
    },
    {
      "cell_type": "code",
      "source": [
        "from transformers import DataCollatorForTokenClassification\n",
        "\n",
        "data_collator = DataCollatorForTokenClassification(tokenizer=tokenizer)"
      ],
      "metadata": {
        "id": "ieVYydVW4uyx"
      },
      "execution_count": 46,
      "outputs": []
    },
    {
      "cell_type": "code",
      "source": [
        "import evaluate\n",
        "import numpy as np\n",
        "\n",
        "metric = evaluate.load('seqeval')\n",
        "label_names = list(tag2index)\n",
        "\n",
        "def compute_metrics(eval_preds):\n",
        "    logits, labels = eval_preds\n",
        "\n",
        "    predictions = np.argmax(logits, axis=-1)\n",
        "    true_labels = [[label_names[l] for l in label if l!=-100] for label in labels]\n",
        "\n",
        "    true_predictions = [[label_names[p] for p, l in zip(prediction, label) if l != -100]\n",
        "                        for prediction, label in zip(predictions, labels)]\n",
        "\n",
        "    all_metrics = metric.compute(predictions=true_predictions, references=true_labels)\n",
        "\n",
        "    return {\n",
        "        \"precision\": all_metrics['overall_precision'],\n",
        "        'recall': all_metrics['overall_recall'],\n",
        "        'f1': all_metrics['overall_f1'],\n",
        "        'accuracy': all_metrics['overall_accuracy'],\n",
        "    }"
      ],
      "metadata": {
        "id": "trtvLX1H40aK"
      },
      "execution_count": null,
      "outputs": []
    },
    {
      "cell_type": "markdown",
      "source": [
        "## 4. Train the TokenClassification model"
      ],
      "metadata": {
        "id": "HL-EdHm44-8i"
      }
    },
    {
      "cell_type": "code",
      "source": [
        "import os\n",
        "os.environ[\"WANDB_DISABLED\"] = \"true\""
      ],
      "metadata": {
        "id": "GQFozakh508g"
      },
      "execution_count": 56,
      "outputs": []
    },
    {
      "cell_type": "code",
      "source": [
        "from transformers import AutoModelForTokenClassification\n",
        "\n",
        "model = AutoModelForTokenClassification.from_pretrained(model_ckpt, id2label=index2tag, label2id=tag2index)"
      ],
      "metadata": {
        "id": "Smp7g5uZ5Hr7"
      },
      "execution_count": null,
      "outputs": []
    },
    {
      "cell_type": "code",
      "source": [
        "from transformers import TrainingArguments, Trainer\n",
        "\n",
        "args = TrainingArguments(\"finetuned-ner\", eval_strategy='epoch',\n",
        "                         save_strategy='epoch',\n",
        "                         learning_rate=2e-5,\n",
        "                         num_train_epochs=3,\n",
        "                         weight_decay=0.01,\n",
        "                         report_to=\"none\"\n",
        "                         )\n"
      ],
      "metadata": {
        "id": "cJE-gafR5Lfh"
      },
      "execution_count": 58,
      "outputs": []
    },
    {
      "cell_type": "code",
      "source": [
        "trainer = Trainer(model=model, args=args,\n",
        "                  train_dataset=tokenized_dataset['train'],\n",
        "                  eval_dataset=tokenized_dataset['validation'],\n",
        "                  data_collator=data_collator,\n",
        "                  compute_metrics=compute_metrics,\n",
        "                  tokenizer=tokenizer)"
      ],
      "metadata": {
        "id": "BuqaE6j85Qcx"
      },
      "execution_count": 59,
      "outputs": []
    },
    {
      "cell_type": "code",
      "source": [
        "trainer.train()"
      ],
      "metadata": {
        "colab": {
          "base_uri": "https://localhost:8080/",
          "height": 263
        },
        "id": "s7oOrdZO5Xz_",
        "outputId": "5e260411-3020-40de-cd44-84e31d19d099"
      },
      "execution_count": 60,
      "outputs": [
        {
          "data": {
            "text/html": [
              "\n",
              "    <div>\n",
              "      \n",
              "      <progress value='144' max='2412' style='width:300px; height:20px; vertical-align: middle;'></progress>\n",
              "      [ 144/2412 02:42 < 43:15, 0.87 it/s, Epoch 0.18/3]\n",
              "    </div>\n",
              "    <table border=\"1\" class=\"dataframe\">\n",
              "  <thead>\n",
              " <tr style=\"text-align: left;\">\n",
              "      <th>Epoch</th>\n",
              "      <th>Training Loss</th>\n",
              "      <th>Validation Loss</th>\n",
              "    </tr>\n",
              "  </thead>\n",
              "  <tbody>\n",
              "  </tbody>\n",
              "</table><p>"
            ],
            "text/plain": [
              "<IPython.core.display.HTML object>"
            ]
          },
          "metadata": {},
          "output_type": "display_data"
        },
        {
          "output_type": "display_data",
          "data": {
            "text/plain": [
              "<IPython.core.display.HTML object>"
            ],
            "text/html": [
              "\n",
              "    <div>\n",
              "      \n",
              "      <progress value='2412' max='2412' style='width:300px; height:20px; vertical-align: middle;'></progress>\n",
              "      [2412/2412 43:12, Epoch 3/3]\n",
              "    </div>\n",
              "    <table border=\"1\" class=\"dataframe\">\n",
              "  <thead>\n",
              " <tr style=\"text-align: left;\">\n",
              "      <th>Epoch</th>\n",
              "      <th>Training Loss</th>\n",
              "      <th>Validation Loss</th>\n",
              "      <th>Precision</th>\n",
              "      <th>Recall</th>\n",
              "      <th>F1</th>\n",
              "      <th>Accuracy</th>\n",
              "    </tr>\n",
              "  </thead>\n",
              "  <tbody>\n",
              "    <tr>\n",
              "      <td>1</td>\n",
              "      <td>0.637200</td>\n",
              "      <td>0.330997</td>\n",
              "      <td>0.693707</td>\n",
              "      <td>0.754142</td>\n",
              "      <td>0.722663</td>\n",
              "      <td>0.899035</td>\n",
              "    </tr>\n",
              "    <tr>\n",
              "      <td>2</td>\n",
              "      <td>0.254700</td>\n",
              "      <td>0.315599</td>\n",
              "      <td>0.756490</td>\n",
              "      <td>0.778728</td>\n",
              "      <td>0.767448</td>\n",
              "      <td>0.908224</td>\n",
              "    </tr>\n",
              "    <tr>\n",
              "      <td>3</td>\n",
              "      <td>0.206300</td>\n",
              "      <td>0.318171</td>\n",
              "      <td>0.755934</td>\n",
              "      <td>0.783004</td>\n",
              "      <td>0.769231</td>\n",
              "      <td>0.910783</td>\n",
              "    </tr>\n",
              "  </tbody>\n",
              "</table><p>"
            ]
          },
          "metadata": {}
        },
        {
          "output_type": "execute_result",
          "data": {
            "text/plain": [
              "TrainOutput(global_step=2412, training_loss=0.3246846491622292, metrics={'train_runtime': 2597.0506, 'train_samples_per_second': 7.422, 'train_steps_per_second': 0.929, 'total_flos': 88224971539440.0, 'train_loss': 0.3246846491622292, 'epoch': 3.0})"
            ]
          },
          "metadata": {},
          "execution_count": 60
        }
      ]
    },
    {
      "cell_type": "markdown",
      "source": [
        "## 5. Store the model"
      ],
      "metadata": {
        "id": "ejRsv00QGQ8Q"
      }
    },
    {
      "cell_type": "code",
      "source": [
        "trainer.save_model(\"/content/drive/MyDrive/llm_finetuning_transformers/Restaurant_Search_NER/distilbert-base-uncased-ner-model\")"
      ],
      "metadata": {
        "id": "twfgzdD85p0_"
      },
      "execution_count": 61,
      "outputs": []
    },
    {
      "cell_type": "markdown",
      "source": [
        "## 6. Evaluate the model"
      ],
      "metadata": {
        "id": "t2HFvTKLGX-5"
      }
    },
    {
      "cell_type": "code",
      "source": [
        "preds_output = trainer.predict(tokenized_dataset['test'])"
      ],
      "metadata": {
        "colab": {
          "base_uri": "https://localhost:8080/",
          "height": 17
        },
        "id": "eGEkB4FaF-vz",
        "outputId": "89c369e3-dddf-4d6a-9ef0-3bae5fff1832"
      },
      "execution_count": 63,
      "outputs": [
        {
          "output_type": "display_data",
          "data": {
            "text/plain": [
              "<IPython.core.display.HTML object>"
            ],
            "text/html": []
          },
          "metadata": {}
        }
      ]
    },
    {
      "cell_type": "code",
      "source": [
        "preds_output.metrics"
      ],
      "metadata": {
        "colab": {
          "base_uri": "https://localhost:8080/"
        },
        "id": "dyC2N6B_GE1j",
        "outputId": "d59bf964-064d-4ffc-f3b5-e2f5985c3905"
      },
      "execution_count": 64,
      "outputs": [
        {
          "output_type": "execute_result",
          "data": {
            "text/plain": [
              "{'test_loss': 0.28334367275238037,\n",
              " 'test_precision': 0.7796478508544795,\n",
              " 'test_recall': 0.8065898740959014,\n",
              " 'test_f1': 0.7928900592495063,\n",
              " 'test_accuracy': 0.9201449783701625,\n",
              " 'test_runtime': 130.7185,\n",
              " 'test_samples_per_second': 14.045,\n",
              " 'test_steps_per_second': 1.76}"
            ]
          },
          "metadata": {},
          "execution_count": 64
        }
      ]
    }
  ]
}