{
  "nbformat": 4,
  "nbformat_minor": 0,
  "metadata": {
    "colab": {
      "provenance": []
    },
    "kernelspec": {
      "name": "python3",
      "display_name": "Python 3"
    },
    "language_info": {
      "name": "python"
    }
  },
  "cells": [
    {
      "cell_type": "markdown",
      "source": [
        "# Fine Tuning DistilBERT For Restaurant Search NER"
      ],
      "metadata": {
        "id": "1TOsbiszpYUy"
      }
    },
    {
      "cell_type": "code",
      "source": [
        "# hide warnings\n",
        "import warnings\n",
        "warnings.filterwarnings('ignore')"
      ],
      "metadata": {
        "id": "rKQIkfORpdoM"
      },
      "execution_count": 1,
      "outputs": []
    },
    {
      "cell_type": "code",
      "source": [
        "!pip install -U transformers\n",
        "!pip install -U accelerate\n",
        "!pip install -U datasets"
      ],
      "metadata": {
        "id": "hA70hutZpxSF"
      },
      "execution_count": null,
      "outputs": []
    },
    {
      "cell_type": "markdown",
      "source": [
        "## 1. Load the MIT Restaurant Dataset"
      ],
      "metadata": {
        "id": "7PSDznXppgeo"
      }
    },
    {
      "cell_type": "code",
      "source": [
        "import requests\n",
        "\n",
        "response = requests.get(\"https://raw.githubusercontent.com/laxmimerit/All-CSV-ML-Data-Files-Download/master/mit_restaurant_search_ner/train.bio\")\n",
        "response = response.text"
      ],
      "metadata": {
        "id": "-cxEZXfHplQ1"
      },
      "execution_count": 15,
      "outputs": []
    },
    {
      "cell_type": "code",
      "source": [
        "response = response.splitlines()\n",
        "response[:10]"
      ],
      "metadata": {
        "colab": {
          "base_uri": "https://localhost:8080/"
        },
        "id": "Jw86a0TbqNs-",
        "outputId": "d4662e89-0e3e-4fe1-a568-88996e85bfa1"
      },
      "execution_count": 16,
      "outputs": [
        {
          "output_type": "execute_result",
          "data": {
            "text/plain": [
              "['B-Rating\\t2',\n",
              " 'I-Rating\\tstart',\n",
              " 'O\\trestaurants',\n",
              " 'O\\twith',\n",
              " 'B-Amenity\\tinside',\n",
              " 'I-Amenity\\tdining',\n",
              " '',\n",
              " 'O\\t34',\n",
              " '',\n",
              " 'B-Rating\\t5']"
            ]
          },
          "metadata": {},
          "execution_count": 16
        }
      ]
    },
    {
      "cell_type": "code",
      "source": [
        "train_tokens = []\n",
        "train_tags = []\n",
        "\n",
        "temp_tokens = []\n",
        "temp_tags = []\n",
        "for line in response:\n",
        "    if line != \"\":\n",
        "        tag, token = line.strip().split(\"\\t\")\n",
        "        temp_tags.append(tag)\n",
        "        temp_tokens.append(token)\n",
        "    else:\n",
        "        train_tokens.append(temp_tokens)\n",
        "        train_tags.append(temp_tags)\n",
        "\n",
        "        temp_tokens, temp_tags = [], []"
      ],
      "metadata": {
        "id": "QD3NDui9uigA"
      },
      "execution_count": 17,
      "outputs": []
    },
    {
      "cell_type": "code",
      "source": [
        "train_tokens[:10], train_tags[:10]"
      ],
      "metadata": {
        "colab": {
          "base_uri": "https://localhost:8080/"
        },
        "id": "cvl0t-76utIo",
        "outputId": "caabd5b3-44c4-48e8-84d7-dc9b8d94d2b8"
      },
      "execution_count": 18,
      "outputs": [
        {
          "output_type": "execute_result",
          "data": {
            "text/plain": [
              "([['2', 'start', 'restaurants', 'with', 'inside', 'dining'],\n",
              "  ['34'],\n",
              "  ['5', 'star', 'resturants', 'in', 'my', 'town'],\n",
              "  ['98', 'hong', 'kong', 'restaurant', 'reasonable', 'prices'],\n",
              "  ['a',\n",
              "   'great',\n",
              "   'lunch',\n",
              "   'spot',\n",
              "   'but',\n",
              "   'open',\n",
              "   'till',\n",
              "   '2',\n",
              "   'a',\n",
              "   'm',\n",
              "   'passims',\n",
              "   'kitchen'],\n",
              "  ['a', 'place', 'that', 'serves', 'soft', 'serve', 'ice', 'cream'],\n",
              "  ['a', 'restaurant', 'that', 'is', 'good', 'for', 'groups'],\n",
              "  ['a', 'salad', 'would', 'make', 'my', 'day'],\n",
              "  ['a', 'smoothie', 'would', 'hit', 'the', 'spot'],\n",
              "  ['a', 'steak', 'would', 'be', 'nice']],\n",
              " [['B-Rating', 'I-Rating', 'O', 'O', 'B-Amenity', 'I-Amenity'],\n",
              "  ['O'],\n",
              "  ['B-Rating', 'I-Rating', 'O', 'B-Location', 'I-Location', 'I-Location'],\n",
              "  ['O', 'B-Restaurant_Name', 'I-Restaurant_Name', 'O', 'B-Price', 'O'],\n",
              "  ['O',\n",
              "   'O',\n",
              "   'O',\n",
              "   'O',\n",
              "   'O',\n",
              "   'B-Hours',\n",
              "   'I-Hours',\n",
              "   'I-Hours',\n",
              "   'I-Hours',\n",
              "   'I-Hours',\n",
              "   'B-Restaurant_Name',\n",
              "   'I-Restaurant_Name'],\n",
              "  ['O', 'O', 'O', 'O', 'B-Dish', 'I-Dish', 'I-Dish', 'I-Dish'],\n",
              "  ['O', 'O', 'O', 'O', 'B-Rating', 'B-Amenity', 'I-Amenity'],\n",
              "  ['O', 'B-Dish', 'O', 'O', 'O', 'O'],\n",
              "  ['O', 'B-Cuisine', 'O', 'O', 'O', 'O'],\n",
              "  ['O', 'B-Dish', 'O', 'O', 'O']])"
            ]
          },
          "metadata": {},
          "execution_count": 18
        }
      ]
    },
    {
      "cell_type": "code",
      "source": [
        "len(train_tokens), len(train_tags)"
      ],
      "metadata": {
        "colab": {
          "base_uri": "https://localhost:8080/"
        },
        "id": "nxXoZk70u0p8",
        "outputId": "3d4926ad-4126-4f9a-e49d-d78403596050"
      },
      "execution_count": 19,
      "outputs": [
        {
          "output_type": "execute_result",
          "data": {
            "text/plain": [
              "(7659, 7659)"
            ]
          },
          "metadata": {},
          "execution_count": 19
        }
      ]
    },
    {
      "cell_type": "code",
      "source": [
        "response = requests.get(\"https://raw.githubusercontent.com/laxmimerit/All-CSV-ML-Data-Files-Download/master/mit_restaurant_search_ner/test.bio\")\n",
        "response = response.text\n",
        "response = response.splitlines()\n",
        "\n",
        "test_tokens = []\n",
        "test_tags = []\n",
        "\n",
        "temp_tokens = []\n",
        "temp_tags = []\n",
        "for line in response:\n",
        "    if line != \"\":\n",
        "        tag, token = line.strip().split(\"\\t\")\n",
        "        temp_tags.append(tag)\n",
        "        temp_tokens.append(token)\n",
        "    else:\n",
        "        test_tokens.append(temp_tokens)\n",
        "        test_tags.append(temp_tags)\n",
        "\n",
        "        temp_tokens, temp_tags = [], []\n",
        "\n",
        "len(test_tokens), len(test_tags)"
      ],
      "metadata": {
        "colab": {
          "base_uri": "https://localhost:8080/"
        },
        "id": "3u13lkgwu6Mm",
        "outputId": "969e58a2-ec1a-43c2-bbc7-e63c3191427f"
      },
      "execution_count": 20,
      "outputs": [
        {
          "output_type": "execute_result",
          "data": {
            "text/plain": [
              "(1520, 1520)"
            ]
          },
          "metadata": {},
          "execution_count": 20
        }
      ]
    },
    {
      "cell_type": "code",
      "source": [
        "from datasets import Dataset, DatasetDict\n",
        "import pandas as pd\n",
        "\n",
        "train_df = pd.DataFrame({'tokens': train_tokens, 'ner_tags_str': train_tags})\n",
        "\n",
        "test_df = pd.DataFrame({'tokens': test_tokens, 'ner_tags_str': test_tags})\n",
        "\n",
        "df = pd.concat([train_df, test_df], ignore_index=True)\n",
        "\n",
        "train_df.shape, test_df.shape, df.shape"
      ],
      "metadata": {
        "colab": {
          "base_uri": "https://localhost:8080/"
        },
        "id": "GbS5Ek9Ju8w7",
        "outputId": "9fffd599-97c3-4ead-8827-b7fc4586185b"
      },
      "execution_count": 21,
      "outputs": [
        {
          "output_type": "execute_result",
          "data": {
            "text/plain": [
              "((7659, 2), (1520, 2), (9179, 2))"
            ]
          },
          "metadata": {},
          "execution_count": 21
        }
      ]
    },
    {
      "cell_type": "code",
      "source": [
        "df"
      ],
      "metadata": {
        "colab": {
          "base_uri": "https://localhost:8080/",
          "height": 424
        },
        "id": "nTsCmFIEwf5M",
        "outputId": "f5b5824c-034e-4de7-af67-31b2f02ca17f"
      },
      "execution_count": 22,
      "outputs": [
        {
          "output_type": "execute_result",
          "data": {
            "text/plain": [
              "                                                 tokens  \\\n",
              "0         [2, start, restaurants, with, inside, dining]   \n",
              "1                                                  [34]   \n",
              "2                   [5, star, resturants, in, my, town]   \n",
              "3      [98, hong, kong, restaurant, reasonable, prices]   \n",
              "4     [a, great, lunch, spot, but, open, till, 2, a,...   \n",
              "...                                                 ...   \n",
              "9174  [will, i, be, able, to, find, a, romantic, res...   \n",
              "9175  [will, waffle, house, accept, a, prepaid, visa...   \n",
              "9176  [yes, please, get, me, mcdonalds, phone, numbe...   \n",
              "9177  [yes, the, new, diner, on, south, street, please]   \n",
              "9178  [yes, we, need, some, chicken, for, our, new, ...   \n",
              "\n",
              "                                           ner_tags_str  \n",
              "0      [B-Rating, I-Rating, O, O, B-Amenity, I-Amenity]  \n",
              "1                                                   [O]  \n",
              "2     [B-Rating, I-Rating, O, B-Location, I-Location...  \n",
              "3     [O, B-Restaurant_Name, I-Restaurant_Name, O, B...  \n",
              "4     [O, O, O, O, O, B-Hours, I-Hours, I-Hours, I-H...  \n",
              "...                                                 ...  \n",
              "9174  [O, O, O, O, O, O, O, B-Amenity, O, O, O, O, B...  \n",
              "9175  [O, B-Restaurant_Name, I-Restaurant_Name, O, O...  \n",
              "9176  [O, O, O, O, B-Restaurant_Name, O, O, O, B-Loc...  \n",
              "9177  [O, O, O, B-Cuisine, O, B-Location, I-Location...  \n",
              "9178  [O, O, O, O, B-Dish, O, O, O, O, O, B-Restaura...  \n",
              "\n",
              "[9179 rows x 2 columns]"
            ],
            "text/html": [
              "\n",
              "  <div id=\"df-ff8cc17b-a923-43a9-86c2-a86e2036918e\" class=\"colab-df-container\">\n",
              "    <div>\n",
              "<style scoped>\n",
              "    .dataframe tbody tr th:only-of-type {\n",
              "        vertical-align: middle;\n",
              "    }\n",
              "\n",
              "    .dataframe tbody tr th {\n",
              "        vertical-align: top;\n",
              "    }\n",
              "\n",
              "    .dataframe thead th {\n",
              "        text-align: right;\n",
              "    }\n",
              "</style>\n",
              "<table border=\"1\" class=\"dataframe\">\n",
              "  <thead>\n",
              "    <tr style=\"text-align: right;\">\n",
              "      <th></th>\n",
              "      <th>tokens</th>\n",
              "      <th>ner_tags_str</th>\n",
              "    </tr>\n",
              "  </thead>\n",
              "  <tbody>\n",
              "    <tr>\n",
              "      <th>0</th>\n",
              "      <td>[2, start, restaurants, with, inside, dining]</td>\n",
              "      <td>[B-Rating, I-Rating, O, O, B-Amenity, I-Amenity]</td>\n",
              "    </tr>\n",
              "    <tr>\n",
              "      <th>1</th>\n",
              "      <td>[34]</td>\n",
              "      <td>[O]</td>\n",
              "    </tr>\n",
              "    <tr>\n",
              "      <th>2</th>\n",
              "      <td>[5, star, resturants, in, my, town]</td>\n",
              "      <td>[B-Rating, I-Rating, O, B-Location, I-Location...</td>\n",
              "    </tr>\n",
              "    <tr>\n",
              "      <th>3</th>\n",
              "      <td>[98, hong, kong, restaurant, reasonable, prices]</td>\n",
              "      <td>[O, B-Restaurant_Name, I-Restaurant_Name, O, B...</td>\n",
              "    </tr>\n",
              "    <tr>\n",
              "      <th>4</th>\n",
              "      <td>[a, great, lunch, spot, but, open, till, 2, a,...</td>\n",
              "      <td>[O, O, O, O, O, B-Hours, I-Hours, I-Hours, I-H...</td>\n",
              "    </tr>\n",
              "    <tr>\n",
              "      <th>...</th>\n",
              "      <td>...</td>\n",
              "      <td>...</td>\n",
              "    </tr>\n",
              "    <tr>\n",
              "      <th>9174</th>\n",
              "      <td>[will, i, be, able, to, find, a, romantic, res...</td>\n",
              "      <td>[O, O, O, O, O, O, O, B-Amenity, O, O, O, O, B...</td>\n",
              "    </tr>\n",
              "    <tr>\n",
              "      <th>9175</th>\n",
              "      <td>[will, waffle, house, accept, a, prepaid, visa...</td>\n",
              "      <td>[O, B-Restaurant_Name, I-Restaurant_Name, O, O...</td>\n",
              "    </tr>\n",
              "    <tr>\n",
              "      <th>9176</th>\n",
              "      <td>[yes, please, get, me, mcdonalds, phone, numbe...</td>\n",
              "      <td>[O, O, O, O, B-Restaurant_Name, O, O, O, B-Loc...</td>\n",
              "    </tr>\n",
              "    <tr>\n",
              "      <th>9177</th>\n",
              "      <td>[yes, the, new, diner, on, south, street, please]</td>\n",
              "      <td>[O, O, O, B-Cuisine, O, B-Location, I-Location...</td>\n",
              "    </tr>\n",
              "    <tr>\n",
              "      <th>9178</th>\n",
              "      <td>[yes, we, need, some, chicken, for, our, new, ...</td>\n",
              "      <td>[O, O, O, O, B-Dish, O, O, O, O, O, B-Restaura...</td>\n",
              "    </tr>\n",
              "  </tbody>\n",
              "</table>\n",
              "<p>9179 rows × 2 columns</p>\n",
              "</div>\n",
              "    <div class=\"colab-df-buttons\">\n",
              "\n",
              "  <div class=\"colab-df-container\">\n",
              "    <button class=\"colab-df-convert\" onclick=\"convertToInteractive('df-ff8cc17b-a923-43a9-86c2-a86e2036918e')\"\n",
              "            title=\"Convert this dataframe to an interactive table.\"\n",
              "            style=\"display:none;\">\n",
              "\n",
              "  <svg xmlns=\"http://www.w3.org/2000/svg\" height=\"24px\" viewBox=\"0 -960 960 960\">\n",
              "    <path d=\"M120-120v-720h720v720H120Zm60-500h600v-160H180v160Zm220 220h160v-160H400v160Zm0 220h160v-160H400v160ZM180-400h160v-160H180v160Zm440 0h160v-160H620v160ZM180-180h160v-160H180v160Zm440 0h160v-160H620v160Z\"/>\n",
              "  </svg>\n",
              "    </button>\n",
              "\n",
              "  <style>\n",
              "    .colab-df-container {\n",
              "      display:flex;\n",
              "      gap: 12px;\n",
              "    }\n",
              "\n",
              "    .colab-df-convert {\n",
              "      background-color: #E8F0FE;\n",
              "      border: none;\n",
              "      border-radius: 50%;\n",
              "      cursor: pointer;\n",
              "      display: none;\n",
              "      fill: #1967D2;\n",
              "      height: 32px;\n",
              "      padding: 0 0 0 0;\n",
              "      width: 32px;\n",
              "    }\n",
              "\n",
              "    .colab-df-convert:hover {\n",
              "      background-color: #E2EBFA;\n",
              "      box-shadow: 0px 1px 2px rgba(60, 64, 67, 0.3), 0px 1px 3px 1px rgba(60, 64, 67, 0.15);\n",
              "      fill: #174EA6;\n",
              "    }\n",
              "\n",
              "    .colab-df-buttons div {\n",
              "      margin-bottom: 4px;\n",
              "    }\n",
              "\n",
              "    [theme=dark] .colab-df-convert {\n",
              "      background-color: #3B4455;\n",
              "      fill: #D2E3FC;\n",
              "    }\n",
              "\n",
              "    [theme=dark] .colab-df-convert:hover {\n",
              "      background-color: #434B5C;\n",
              "      box-shadow: 0px 1px 3px 1px rgba(0, 0, 0, 0.15);\n",
              "      filter: drop-shadow(0px 1px 2px rgba(0, 0, 0, 0.3));\n",
              "      fill: #FFFFFF;\n",
              "    }\n",
              "  </style>\n",
              "\n",
              "    <script>\n",
              "      const buttonEl =\n",
              "        document.querySelector('#df-ff8cc17b-a923-43a9-86c2-a86e2036918e button.colab-df-convert');\n",
              "      buttonEl.style.display =\n",
              "        google.colab.kernel.accessAllowed ? 'block' : 'none';\n",
              "\n",
              "      async function convertToInteractive(key) {\n",
              "        const element = document.querySelector('#df-ff8cc17b-a923-43a9-86c2-a86e2036918e');\n",
              "        const dataTable =\n",
              "          await google.colab.kernel.invokeFunction('convertToInteractive',\n",
              "                                                    [key], {});\n",
              "        if (!dataTable) return;\n",
              "\n",
              "        const docLinkHtml = 'Like what you see? Visit the ' +\n",
              "          '<a target=\"_blank\" href=https://colab.research.google.com/notebooks/data_table.ipynb>data table notebook</a>'\n",
              "          + ' to learn more about interactive tables.';\n",
              "        element.innerHTML = '';\n",
              "        dataTable['output_type'] = 'display_data';\n",
              "        await google.colab.output.renderOutput(dataTable, element);\n",
              "        const docLink = document.createElement('div');\n",
              "        docLink.innerHTML = docLinkHtml;\n",
              "        element.appendChild(docLink);\n",
              "      }\n",
              "    </script>\n",
              "  </div>\n",
              "\n",
              "\n",
              "    <div id=\"df-bbacd9d2-995c-4a49-a03d-acb8f4f42db5\">\n",
              "      <button class=\"colab-df-quickchart\" onclick=\"quickchart('df-bbacd9d2-995c-4a49-a03d-acb8f4f42db5')\"\n",
              "                title=\"Suggest charts\"\n",
              "                style=\"display:none;\">\n",
              "\n",
              "<svg xmlns=\"http://www.w3.org/2000/svg\" height=\"24px\"viewBox=\"0 0 24 24\"\n",
              "     width=\"24px\">\n",
              "    <g>\n",
              "        <path d=\"M19 3H5c-1.1 0-2 .9-2 2v14c0 1.1.9 2 2 2h14c1.1 0 2-.9 2-2V5c0-1.1-.9-2-2-2zM9 17H7v-7h2v7zm4 0h-2V7h2v10zm4 0h-2v-4h2v4z\"/>\n",
              "    </g>\n",
              "</svg>\n",
              "      </button>\n",
              "\n",
              "<style>\n",
              "  .colab-df-quickchart {\n",
              "      --bg-color: #E8F0FE;\n",
              "      --fill-color: #1967D2;\n",
              "      --hover-bg-color: #E2EBFA;\n",
              "      --hover-fill-color: #174EA6;\n",
              "      --disabled-fill-color: #AAA;\n",
              "      --disabled-bg-color: #DDD;\n",
              "  }\n",
              "\n",
              "  [theme=dark] .colab-df-quickchart {\n",
              "      --bg-color: #3B4455;\n",
              "      --fill-color: #D2E3FC;\n",
              "      --hover-bg-color: #434B5C;\n",
              "      --hover-fill-color: #FFFFFF;\n",
              "      --disabled-bg-color: #3B4455;\n",
              "      --disabled-fill-color: #666;\n",
              "  }\n",
              "\n",
              "  .colab-df-quickchart {\n",
              "    background-color: var(--bg-color);\n",
              "    border: none;\n",
              "    border-radius: 50%;\n",
              "    cursor: pointer;\n",
              "    display: none;\n",
              "    fill: var(--fill-color);\n",
              "    height: 32px;\n",
              "    padding: 0;\n",
              "    width: 32px;\n",
              "  }\n",
              "\n",
              "  .colab-df-quickchart:hover {\n",
              "    background-color: var(--hover-bg-color);\n",
              "    box-shadow: 0 1px 2px rgba(60, 64, 67, 0.3), 0 1px 3px 1px rgba(60, 64, 67, 0.15);\n",
              "    fill: var(--button-hover-fill-color);\n",
              "  }\n",
              "\n",
              "  .colab-df-quickchart-complete:disabled,\n",
              "  .colab-df-quickchart-complete:disabled:hover {\n",
              "    background-color: var(--disabled-bg-color);\n",
              "    fill: var(--disabled-fill-color);\n",
              "    box-shadow: none;\n",
              "  }\n",
              "\n",
              "  .colab-df-spinner {\n",
              "    border: 2px solid var(--fill-color);\n",
              "    border-color: transparent;\n",
              "    border-bottom-color: var(--fill-color);\n",
              "    animation:\n",
              "      spin 1s steps(1) infinite;\n",
              "  }\n",
              "\n",
              "  @keyframes spin {\n",
              "    0% {\n",
              "      border-color: transparent;\n",
              "      border-bottom-color: var(--fill-color);\n",
              "      border-left-color: var(--fill-color);\n",
              "    }\n",
              "    20% {\n",
              "      border-color: transparent;\n",
              "      border-left-color: var(--fill-color);\n",
              "      border-top-color: var(--fill-color);\n",
              "    }\n",
              "    30% {\n",
              "      border-color: transparent;\n",
              "      border-left-color: var(--fill-color);\n",
              "      border-top-color: var(--fill-color);\n",
              "      border-right-color: var(--fill-color);\n",
              "    }\n",
              "    40% {\n",
              "      border-color: transparent;\n",
              "      border-right-color: var(--fill-color);\n",
              "      border-top-color: var(--fill-color);\n",
              "    }\n",
              "    60% {\n",
              "      border-color: transparent;\n",
              "      border-right-color: var(--fill-color);\n",
              "    }\n",
              "    80% {\n",
              "      border-color: transparent;\n",
              "      border-right-color: var(--fill-color);\n",
              "      border-bottom-color: var(--fill-color);\n",
              "    }\n",
              "    90% {\n",
              "      border-color: transparent;\n",
              "      border-bottom-color: var(--fill-color);\n",
              "    }\n",
              "  }\n",
              "</style>\n",
              "\n",
              "      <script>\n",
              "        async function quickchart(key) {\n",
              "          const quickchartButtonEl =\n",
              "            document.querySelector('#' + key + ' button');\n",
              "          quickchartButtonEl.disabled = true;  // To prevent multiple clicks.\n",
              "          quickchartButtonEl.classList.add('colab-df-spinner');\n",
              "          try {\n",
              "            const charts = await google.colab.kernel.invokeFunction(\n",
              "                'suggestCharts', [key], {});\n",
              "          } catch (error) {\n",
              "            console.error('Error during call to suggestCharts:', error);\n",
              "          }\n",
              "          quickchartButtonEl.classList.remove('colab-df-spinner');\n",
              "          quickchartButtonEl.classList.add('colab-df-quickchart-complete');\n",
              "        }\n",
              "        (() => {\n",
              "          let quickchartButtonEl =\n",
              "            document.querySelector('#df-bbacd9d2-995c-4a49-a03d-acb8f4f42db5 button');\n",
              "          quickchartButtonEl.style.display =\n",
              "            google.colab.kernel.accessAllowed ? 'block' : 'none';\n",
              "        })();\n",
              "      </script>\n",
              "    </div>\n",
              "    </div>\n",
              "  </div>\n"
            ],
            "application/vnd.google.colaboratory.intrinsic+json": {
              "type": "dataframe",
              "variable_name": "df",
              "summary": "{\n  \"name\": \"df\",\n  \"rows\": 9179,\n  \"fields\": [\n    {\n      \"column\": \"tokens\",\n      \"properties\": {\n        \"dtype\": \"object\",\n        \"semantic_type\": \"\",\n        \"description\": \"\"\n      }\n    },\n    {\n      \"column\": \"ner_tags_str\",\n      \"properties\": {\n        \"dtype\": \"object\",\n        \"semantic_type\": \"\",\n        \"description\": \"\"\n      }\n    }\n  ]\n}"
            }
          },
          "metadata": {},
          "execution_count": 22
        }
      ]
    },
    {
      "cell_type": "code",
      "source": [
        "from sklearn.model_selection import train_test_split\n",
        "\n",
        "# 70% for training, 20% test, 10% validation\n",
        "train, test = train_test_split(df, test_size=0.3)\n",
        "test, validation = train_test_split(test, test_size=1/3)\n",
        "\n",
        "train.shape, test.shape, validation.shape, df.shape"
      ],
      "metadata": {
        "colab": {
          "base_uri": "https://localhost:8080/"
        },
        "id": "1EYnq_ICwhjU",
        "outputId": "9d436735-d221-44c2-c3e0-98b4b2c652f1"
      },
      "execution_count": 23,
      "outputs": [
        {
          "output_type": "execute_result",
          "data": {
            "text/plain": [
              "((6425, 2), (1836, 2), (918, 2), (9179, 2))"
            ]
          },
          "metadata": {},
          "execution_count": 23
        }
      ]
    },
    {
      "cell_type": "code",
      "source": [
        "from datasets import Dataset, DatasetDict\n",
        "\n",
        "dataset = DatasetDict(\n",
        "    {\n",
        "        \"train\": Dataset.from_pandas(train, preserve_index=False),\n",
        "        \"test\": Dataset.from_pandas(test, preserve_index=False),\n",
        "        \"validation\": Dataset.from_pandas(validation, preserve_index=False)\n",
        "    }\n",
        ")\n",
        "\n",
        "dataset"
      ],
      "metadata": {
        "colab": {
          "base_uri": "https://localhost:8080/"
        },
        "id": "t5C2d_SawwmO",
        "outputId": "a3e49435-3035-479c-a1b4-c43b01982a31"
      },
      "execution_count": 24,
      "outputs": [
        {
          "output_type": "execute_result",
          "data": {
            "text/plain": [
              "DatasetDict({\n",
              "    train: Dataset({\n",
              "        features: ['tokens', 'ner_tags_str'],\n",
              "        num_rows: 6425\n",
              "    })\n",
              "    test: Dataset({\n",
              "        features: ['tokens', 'ner_tags_str'],\n",
              "        num_rows: 1836\n",
              "    })\n",
              "    validation: Dataset({\n",
              "        features: ['tokens', 'ner_tags_str'],\n",
              "        num_rows: 918\n",
              "    })\n",
              "})"
            ]
          },
          "metadata": {},
          "execution_count": 24
        }
      ]
    },
    {
      "cell_type": "code",
      "source": [
        "dataset['train'][0]"
      ],
      "metadata": {
        "colab": {
          "base_uri": "https://localhost:8080/"
        },
        "id": "I5hk0UV5w0Ms",
        "outputId": "aa18d24d-d1da-413d-d550-171b137294c2"
      },
      "execution_count": 25,
      "outputs": [
        {
          "output_type": "execute_result",
          "data": {
            "text/plain": [
              "{'tokens': ['i',\n",
              "  'am',\n",
              "  'looking',\n",
              "  'for',\n",
              "  'a',\n",
              "  'joes',\n",
              "  'crab',\n",
              "  'shack',\n",
              "  'where',\n",
              "  'is',\n",
              "  'the',\n",
              "  'nearest',\n",
              "  'one'],\n",
              " 'ner_tags_str': ['O',\n",
              "  'O',\n",
              "  'O',\n",
              "  'O',\n",
              "  'O',\n",
              "  'B-Restaurant_Name',\n",
              "  'I-Restaurant_Name',\n",
              "  'I-Restaurant_Name',\n",
              "  'O',\n",
              "  'O',\n",
              "  'O',\n",
              "  'B-Location',\n",
              "  'I-Location']}"
            ]
          },
          "metadata": {},
          "execution_count": 25
        }
      ]
    },
    {
      "cell_type": "code",
      "source": [],
      "metadata": {
        "id": "FHbiNAN5w4iq"
      },
      "execution_count": null,
      "outputs": []
    }
  ]
}